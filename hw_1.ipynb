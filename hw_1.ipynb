{
 "cells": [
  {
   "cell_type": "markdown",
   "metadata": {},
   "source": [
    "## Problem set 1, Intro to NLP 2018\n",
    "\n",
    "#### This is due on September 25, 2018, submitted electronically. 100 points total.\n",
    "\n",
    "##### How to do this problem set:\n",
    "\n",
    "- What version of Python should I use? 3.6!\n",
    "\n",
    "- Most of these questions require writing Python code and computing results, and the rest of them have textual answers. To generate the answers, you will have to fill out a supporting file, `hw1.py`.\n",
    "\n",
    "- For all of the textual answers you have to fill out have placeholder text which says \"Answer in one or two sentences here.\" For each question, you need to replace \"Answer in one or two sentences here\" with your answer.\n",
    "\n",
    "- Write all the answers in this ipython notebook. Once you are finished (1) Generate a PDF via (File -> Download As -> PDF) and upload to Gradescope (2)Turn in `hw_1.py` and `hw_1.ipynb` on Moodle.\n",
    "  \n",
    "- **Important** check your PDF before you turn it in to gradescope to make sure it exported correctly. If ipython notebook gets confused about your syntax it will sometimes terminate the PDF creation routine early. If your whole PDF does not print, try running `$jupyter nbconvert --to pdf 2018hw1.ipynb` to identify and fix any syntax errors that might be causing problems\n",
    "\n",
    "- When creating your final version of the PDF to hand in, please do a fresh restart and execute every cell in order. Then you'll be sure it's actually right. One handy way to do this is by clicking `Cell -> Run All` in the notebook menu.\n",
    " \n",
    "- This assignment is designed so that you can run all cells in a few minutes of computation time. If it is taking longer than that, you probably have made a mistake in your code."
   ]
  },
  {
   "cell_type": "markdown",
   "metadata": {},
   "source": [
    "##### Academic honesty \n",
    "\n",
    "- We will audit the Moodle code from a set number of students, chosen at random. The audits will check that the code you wrote and turned on Moodle generates the answers you turn in on your PDF. If you turn in correct answers on your PDF without code that actually generates those answers, we will consider this a serious case of cheating. See the course page for honesty policies.\n",
    "\n",
    "- We will also run automatic checks of code on Moodle for plagiarism. Copying code from others is also considered a serious case of cheating."
   ]
  },
  {
   "cell_type": "code",
   "execution_count": 3,
   "metadata": {},
   "outputs": [
    {
     "name": "stdout",
     "output_type": "stream",
     "text": [
      "#### BEGIN MODEL TRAINING ####\n",
      "lil+pump-boss~124000000.txt\n",
      "aer-wont+laugh~1800000.txt\n",
      "kanye+west-blood+on+the+leaves~88000000.txt\n",
      "nicki+minaj-chun+li~126000000.txt\n",
      "tyler+the+creator-boredom~66000000.txt\n",
      "childish+gambino-freaks+and+geeks~25000000.txt\n",
      "jaden+smith-syre~4815000.txt\n",
      "migos-motorsport~269000000.txt\n",
      "aer-whatever+we+want~1001000.txt\n",
      "chance+the+rapper-smoke+break~107000000.txt\n",
      "chance+the+rapper-juke+jam~174000000.txt\n",
      "tyler+the+creator-who+dat+boy+feat+aap+rocky~87000000.txt\n",
      "lil+pump-jettski+grizzley~41000000.txt\n",
      "meek+mill-on+me~3500000.txt\n",
      "kanye+west-gold+digger~378000000.txt\n",
      "chance+the+rapper-all+night~168000000.txt\n",
      "kendrick+lamar-swimming+pools~218000000.txt\n",
      "lil+pump-flex+like+ouu~109000000.txt\n",
      "kodak+black-calling+my+spirit~1900000.txt\n",
      "kanye+west-famous~312000000.txt\n",
      "migos-narcos~172000000.txt\n",
      "migos-notice+me~88000000.txt\n",
      "aer-come+go~1776000.txt\n",
      "migos-culture~31000000.txt\n",
      "skee+lo-i+wish~36000000.txt\n",
      "packy-wobbin~4582000.txt\n",
      "drake-nonstop~318000000.txt\n",
      "lil+pump-esskeetit~138000000.txt\n",
      "lil+pump-gucci+gang~452000000.txt\n",
      "tyler+the+creator-911+mr+lonely~84000000.txt\n",
      "cunninlynguists-beautiful+girl~3083000.txt\n",
      "kendrick+lamar-humble~953000000.txt\n",
      "lil+pump-drug+addict~50000000.txt\n",
      "chance+the+rapper-same+drugs~129000000.txt\n",
      "aer-pretty+lady+around+me~1700000.txt\n",
      "jay+z-99+problems~23000000.txt\n",
      "chance+the+rapper-no+problem~309000000.txt\n",
      "chance+the+rapper-my+own+thing~1400000.txt\n",
      "travis+scott-sicko+mode~362000000.txt\n",
      "chance+the+rapper-all+we+got~115000000.txt\n",
      "eminem-renegade~45000000.txt\n",
      "6ix9ine-tic+toc~15000000.txt\n",
      "tyler+the+creator-see+you+again~113000000.txt\n",
      "migos-bad+and+boujee~523000000.txt\n",
      "childish+gambino-california~34000000.txt\n",
      "nwa-chin+check~24000000.txt\n",
      "nicki+minaj-barbie+tingz~49000000.txt\n",
      "aer-above+my+floor~1072000.txt\n",
      "iggy+azalea-black+widow~306000000.txt\n",
      "aer-floats+my+boat~27000000.txt\n",
      "blue+scholars-selfportrait~320000.txt\n",
      "dj+shadow-stemlong+stem~726000.txt\n",
      "cunninlynguists-break+even~102000.txt\n",
      "outkast-when+i+look+in+your+eyes~732000.txt\n",
      "joyner+lucas-shooting+star~791000.txt\n",
      "lupe+fiasco-gold+vs+the+right+things+to+do~683000.txt\n",
      "tonedeff-optimist~201000.txt\n",
      "yonas-nobody+else~779000.txt\n",
      "skee+lo-waitin+for+you~119000.txt\n",
      "binary+star-solar+powered~194000.txt\n",
      "roc+marciano-already~69000.txt\n",
      "chris+webby-stand+up~800000.txt\n",
      "tayyib+ali-i+want+it+all~1300.txt\n",
      "skee+lo-you+aint+down~78000.txt\n",
      "roc+marciano-death+sentence~265000.txt\n",
      "biz+markie-young+girl+bluez~144000.txt\n",
      "binary+star-indy+500~14000.txt\n",
      "towkio-cntrl~115000.txt\n",
      "towkio-swim~696000.txt\n",
      "kevin+abstract-suburbian+born~970000.txt\n",
      "drapht-put+on+a+record~217000.txt\n",
      "the+deans+list-kryptonite+sanity+room~40000.txt\n",
      "towkio-tear+drop~847000.txt\n",
      "tonedeff-archetype~41000.txt\n",
      "aer-im+not+sorry~883000.txt\n",
      "cunninlynguists-the+light~750000.txt\n",
      "tayyib+ali-like+i+used+to~10000.txt\n",
      "dj+shadow-backstage+girl~240000.txt\n",
      "outkast-skew+it+on+the+bar+b~753000.txt\n",
      "tonedeff-case+closed~147000.txt\n",
      "fetty+wap-all+for+you~538000.txt\n",
      "cunninlynguists-whatll+you+do~356000.txt\n",
      "jaden+smith-electric~889000.txt\n",
      "nujabes-perfect+circle~234000.txt\n",
      "binary+star-conquistadors~271000.txt\n",
      "towkio-lose+me+i+dont+mind~89000.txt\n",
      "chris+webby-blunt+ride+cypher~5696000.txt\n",
      "roc+marciano-love+means~243000.txt\n",
      "joyner+lucas-half+nigga~641000.txt\n",
      "drapht-lost~156000.txt\n",
      "yung+lean-friday+the+13th~830000.txt\n",
      "skee+lo-come+back+to+me~121000.txt\n",
      "mr+sos-bionic~36000.txt\n",
      "drapht-bali+party~764000.txt\n",
      "dj+shadow-give+me+back+the+nights~228000.txt\n",
      "skee+lo-top+of+the+stairs~483000.txt\n",
      "chiddy+bang-been+a+while~242000.txt\n",
      "nliten-lite+it+up~1000.txt\n",
      "tonedeff-pervert~77000.txt\n",
      "tonedeff-disappointed~65000.txt\n",
      "yung+lean-stars+align~823000.txt\n",
      "mr+sos-the+balance~15000.txt\n",
      "jaden+smith-falcon~719000.txt\n",
      "roc+marciano-corniche~331000.txt\n",
      "fetty+wap-you+dont+know~673000.txt\n",
      "joyner+lucas-wwjd~780000.txt\n",
      "drapht-boom+boom+boom~273000.txt\n",
      "roc+marciano-cut+the+check~82000.txt\n",
      "oncue-this+is+not+a+song~47000.txt\n",
      "oncue-cereal~79000.txt\n",
      "yonas-mindless~434000.txt\n",
      "outkast-synthesizer~585000.txt\n",
      "towkio-alone~66000.txt\n",
      "biz+markie-throw+back~82000.txt\n",
      "lupe+fiasco-sun+god+sam~536000.txt\n",
      "lupe+fiasco-xo~630000.txt\n",
      "fetty+wap-what+we+do~416000.txt\n",
      "biz+markie-party+to+the+break+a+day~17000.txt\n",
      "outkast-pj+rooster~827000.txt\n",
      "dj+shadow-you+made+it~770000.txt\n",
      "cunninlynguists-dying+nation~125000.txt\n",
      "biz+markie-turn+back+the+hands+of+time+feat+lil+kal~40000.txt\n",
      "tonedeff-masochist~253000.txt\n",
      "roc+marciano-confucius~62000.txt\n",
      "dj+shadow-hindsight~366000.txt\n",
      "chris+webby-take+me+home~831000.txt\n",
      "binary+star-masters+of+the+universe~493000.txt\n",
      "aer-ex~830000.txt\n",
      "fetty+wap-hit+some+corners~714000.txt\n",
      "chris+webby-through+the+roof~630000.txt\n",
      "kinetics+one+love-still+dreamin~660000.txt\n",
      "yung+lean-deathstar+getting+benjamins~876000.txt\n",
      "lupe+fiasco-stronger~474000.txt\n",
      "drapht-the+money~425000.txt\n",
      "outkast-return+of+the+g~828000.txt\n",
      "yonas-yall+know~558000.txt\n",
      "immortal+technique-crimes+of+the+heart~887000.txt\n",
      "yung+lean-snakeskin+bullets~729000.txt\n",
      "biz+markie-chinese+food~112000.txt\n",
      "roc+marciano-20+guns~85000.txt\n",
      "aer-stars~958000.txt\n",
      "yung+lean-bender+girlfriend~411000.txt\n",
      "roc+marciano-death+parade~131000.txt\n",
      "dj+shadow-circular+logic+front+to+back~201000.txt\n",
      "busdriver-avantcore~115000.txt\n",
      "cyne-free~19000.txt\n",
      "tonedeff-shag~23000.txt\n",
      "skee+lo-crenshaw~81000.txt\n",
      "roc+marciano-congo~30000.txt\n",
      "yung+lean-trashy~496000.txt\n",
      "REPORTING CORPUS STATISTICS\n",
      "NUMBER OF RAP SONGS IN EXTREMELY POPULAR CLASS: 22.0\n",
      "NUMBER OF RAP SONGS IN VERY POPULAR CLASS: 17.0\n",
      "NUMBER OF RAP SONGS IN STANDARD POPULAR CLASS: 12.0\n",
      "NUMBER OF RAP SONGS IN EXTREMELY UNPOPULAR CLASS: 26.0\n",
      "NUMBER OF RAP SONGS IN VERY UNPOPULAR CLASS: 36.0\n",
      "NUMBER OF RAP SONGS IN STANDARD UNPOPULAR CLASS: 37.0\n",
      "NUMBER OF COUNTRY SONGS IN EXTREMELY POPULAR CLASS: 0.0\n",
      "NUMBER OF COUNTRY SONGS IN VERY POPULAR CLASS: 0.0\n",
      "NUMBER OF COUNTRY SONGS IN STANDARD POPULAR CLASS: 0.0\n",
      "NUMBER OF COUNTRY SONGS IN EXTREMELY UNPOPULAR CLASS: 0.0\n",
      "NUMBER OF COUNTRY SONGS IN VERY UNPOPULAR CLASS: 0.0\n",
      "NUMBER OF COUNTRY SONGS IN STANDARD UNPOPULAR CLASS: 0.0\n",
      "NUMBER OF TOKENS IN RAP EXTREMELY POPULAR CLASS: 12075.0\n",
      "NUMBER OF TOKENS IN RAP VERY POPULAR CLASS: 9437.0\n",
      "NUMBER OF TOKENS IN RAP STANDARD POPULAR CLASS: 5335.0\n",
      "NUMBER OF TOKENS IN RAP EXTREMELY UNPOPULAR CLASS: 10908.0\n",
      "NUMBER OF TOKENS IN RAP VERY UNPOPULAR CLASS: 15504.0\n",
      "NUMBER OF TOKENS IN RAP STANDARD UNPOPULAR CLASS: 16129.0\n",
      "NUMBER OF TOKENS IN COUNTRY EXTREMELY POPULAR CLASS: 0.0\n",
      "NUMBER OF TOKENS IN COUNTRY VERY POPULAR CLASS: 0.0\n",
      "NUMBER OF TOKENS IN COUNTRY STANDARD POPULAR CLASS: 0.0\n",
      "NUMBER OF TOKENS IN COUNTRY EXTREMELY UNPOPULAR CLASS: 0.0\n",
      "NUMBER OF TOKENS IN COUNTRY VERY UNPOPULAR CLASS: 0.0\n",
      "NUMBER OF TOKENS IN COUNTRY STANDARD UNPOPULAR CLASS: 0.0\n",
      "VOCABULARY SIZE: NUMBER OF UNIQUE WORDTYPES IN TRAINING CORPUS FOR RAP: 8512\n",
      "VOCABULARY SIZE: NUMBER OF UNIQUE WORDTYPES IN TRAINING CORPUS FOR COUNTRY: 0\n",
      "#### END MODEL TRAINING ####\n",
      "#### BEGIN ACCURACY TEST ####\n",
      "#### END ACCURAACY TEST ###\n"
     ]
    }
   ],
   "source": [
    "# Run this cell! It sets some things up for you.\n",
    "\n",
    "# This code makes plots appear inline in this document rather than in a new window.\n",
    "import matplotlib.pyplot as plt\n",
    "from __future__ import division  # this line is important to avoid unexpected behavior from division\n",
    "\n",
    "# This code imports your work from hw_1.py\n",
    "from model import *\n",
    "\n",
    "%matplotlib inline\n",
    "plt.rcParams['figure.figsize'] = (5, 4) # set default size of plots\n",
    "\n",
    "# Some more magic so that the notebook will reload external python modules;\n",
    "# see http://stackoverflow.com/questions/1907993/autoreload-of-modules-in-ipython\n",
    "%load_ext autoreload\n",
    "%autoreload 2"
   ]
  },
  {
   "cell_type": "code",
   "execution_count": 6,
   "metadata": {
    "scrolled": false
   },
   "outputs": [
    {
     "name": "stdout",
     "output_type": "stream",
     "text": [
      "popular_rap\n",
      "['lil+pump-boss~124000000.txt', 'aer-wont+laugh~1800000.txt', 'kanye+west-blood+on+the+leaves~88000000.txt', 'nicki+minaj-chun+li~126000000.txt', 'tyler+the+creator-boredom~66000000.txt', 'childish+gambino-freaks+and+geeks~25000000.txt', 'jaden+smith-syre~4815000.txt', 'migos-motorsport~269000000.txt', 'aer-whatever+we+want~1001000.txt', 'chance+the+rapper-smoke+break~107000000.txt', 'chance+the+rapper-juke+jam~174000000.txt', 'tyler+the+creator-who+dat+boy+feat+aap+rocky~87000000.txt', 'lil+pump-jettski+grizzley~41000000.txt', 'meek+mill-on+me~3500000.txt', 'kanye+west-gold+digger~378000000.txt', 'chance+the+rapper-all+night~168000000.txt', 'kendrick+lamar-swimming+pools~218000000.txt', 'lil+pump-flex+like+ouu~109000000.txt', 'kodak+black-calling+my+spirit~1900000.txt', 'kanye+west-famous~312000000.txt', 'migos-narcos~172000000.txt', 'migos-notice+me~88000000.txt', 'aer-come+go~1776000.txt', 'migos-culture~31000000.txt', 'skee+lo-i+wish~36000000.txt', 'packy-wobbin~4582000.txt', 'drake-nonstop~318000000.txt', 'lil+pump-esskeetit~138000000.txt', 'lil+pump-gucci+gang~452000000.txt', 'tyler+the+creator-911+mr+lonely~84000000.txt', 'cunninlynguists-beautiful+girl~3083000.txt', 'kendrick+lamar-humble~953000000.txt', 'lil+pump-drug+addict~50000000.txt', 'chance+the+rapper-same+drugs~129000000.txt', 'aer-pretty+lady+around+me~1700000.txt', 'jay+z-99+problems~23000000.txt', 'chance+the+rapper-no+problem~309000000.txt', 'chance+the+rapper-my+own+thing~1400000.txt', 'travis+scott-sicko+mode~362000000.txt', 'chance+the+rapper-all+we+got~115000000.txt', 'eminem-renegade~45000000.txt', '6ix9ine-tic+toc~15000000.txt', 'tyler+the+creator-see+you+again~113000000.txt', 'migos-bad+and+boujee~523000000.txt', 'childish+gambino-california~34000000.txt', 'nwa-chin+check~24000000.txt', 'nicki+minaj-barbie+tingz~49000000.txt', 'aer-above+my+floor~1072000.txt', 'iggy+azalea-black+widow~306000000.txt', 'aer-floats+my+boat~27000000.txt']\n",
      "['lil', 'pump-boss~124000000.txt']\n",
      "['aer-wont', 'laugh~1800000.txt']\n",
      "['kanye', 'west-blood', 'on', 'the', 'leaves~88000000.txt']\n",
      "['nicki', 'minaj-chun', 'li~126000000.txt']\n",
      "['tyler', 'the', 'creator-boredom~66000000.txt']\n",
      "['childish', 'gambino-freaks', 'and', 'geeks~25000000.txt']\n",
      "['jaden', 'smith-syre~4815000.txt']\n",
      "['migos-motorsport~269000000.txt']\n",
      "['aer-whatever', 'we', 'want~1001000.txt']\n",
      "['chance', 'the', 'rapper-smoke', 'break~107000000.txt']\n",
      "['chance', 'the', 'rapper-juke', 'jam~174000000.txt']\n",
      "['tyler', 'the', 'creator-who', 'dat', 'boy', 'feat', 'aap', 'rocky~87000000.txt']\n",
      "['lil', 'pump-jettski', 'grizzley~41000000.txt']\n",
      "['meek', 'mill-on', 'me~3500000.txt']\n",
      "['kanye', 'west-gold', 'digger~378000000.txt']\n",
      "['chance', 'the', 'rapper-all', 'night~168000000.txt']\n",
      "['kendrick', 'lamar-swimming', 'pools~218000000.txt']\n",
      "['lil', 'pump-flex', 'like', 'ouu~109000000.txt']\n",
      "['kodak', 'black-calling', 'my', 'spirit~1900000.txt']\n",
      "['kanye', 'west-famous~312000000.txt']\n",
      "['migos-narcos~172000000.txt']\n",
      "['migos-notice', 'me~88000000.txt']\n",
      "['aer-come', 'go~1776000.txt']\n",
      "['migos-culture~31000000.txt']\n",
      "['skee', 'lo-i', 'wish~36000000.txt']\n",
      "['packy-wobbin~4582000.txt']\n",
      "['drake-nonstop~318000000.txt']\n",
      "['lil', 'pump-esskeetit~138000000.txt']\n",
      "['lil', 'pump-gucci', 'gang~452000000.txt']\n",
      "['tyler', 'the', 'creator-911', 'mr', 'lonely~84000000.txt']\n",
      "['cunninlynguists-beautiful', 'girl~3083000.txt']\n",
      "['kendrick', 'lamar-humble~953000000.txt']\n",
      "['lil', 'pump-drug', 'addict~50000000.txt']\n",
      "['chance', 'the', 'rapper-same', 'drugs~129000000.txt']\n",
      "['aer-pretty', 'lady', 'around', 'me~1700000.txt']\n",
      "['jay', 'z-99', 'problems~23000000.txt']\n",
      "['chance', 'the', 'rapper-no', 'problem~309000000.txt']\n",
      "['chance', 'the', 'rapper-my', 'own', 'thing~1400000.txt']\n",
      "['travis', 'scott-sicko', 'mode~362000000.txt']\n",
      "['chance', 'the', 'rapper-all', 'we', 'got~115000000.txt']\n",
      "['eminem-renegade~45000000.txt']\n",
      "['6ix9ine-tic', 'toc~15000000.txt']\n",
      "['tyler', 'the', 'creator-see', 'you', 'again~113000000.txt']\n",
      "['migos-bad', 'and', 'boujee~523000000.txt']\n",
      "['childish', 'gambino-california~34000000.txt']\n",
      "['nwa-chin', 'check~24000000.txt']\n",
      "['nicki', 'minaj-barbie', 'tingz~49000000.txt']\n",
      "['aer-above', 'my', 'floor~1072000.txt']\n",
      "['iggy', 'azalea-black', 'widow~306000000.txt']\n",
      "['aer-floats', 'my', 'boat~27000000.txt']\n",
      "Oh no! Something is wrong. Check your code which loads the reviews\n",
      "unpopular_rap\n",
      "['blue+scholars-selfportrait~320000.txt', 'dj+shadow-stemlong+stem~726000.txt', 'cunninlynguists-break+even~102000.txt', 'outkast-when+i+look+in+your+eyes~732000.txt', 'joyner+lucas-shooting+star~791000.txt', 'lupe+fiasco-gold+vs+the+right+things+to+do~683000.txt', 'tonedeff-optimist~201000.txt', 'yonas-nobody+else~779000.txt', 'skee+lo-waitin+for+you~119000.txt', 'binary+star-solar+powered~194000.txt', 'roc+marciano-already~69000.txt', 'chris+webby-stand+up~800000.txt', 'tayyib+ali-i+want+it+all~1300.txt', 'skee+lo-you+aint+down~78000.txt', 'roc+marciano-death+sentence~265000.txt', 'biz+markie-young+girl+bluez~144000.txt', 'binary+star-indy+500~14000.txt', 'towkio-cntrl~115000.txt', 'towkio-swim~696000.txt', 'kevin+abstract-suburbian+born~970000.txt', 'drapht-put+on+a+record~217000.txt', 'the+deans+list-kryptonite+sanity+room~40000.txt', 'towkio-tear+drop~847000.txt', 'tonedeff-archetype~41000.txt', 'aer-im+not+sorry~883000.txt', 'cunninlynguists-the+light~750000.txt', 'tayyib+ali-like+i+used+to~10000.txt', 'dj+shadow-backstage+girl~240000.txt', 'outkast-skew+it+on+the+bar+b~753000.txt', 'tonedeff-case+closed~147000.txt', 'fetty+wap-all+for+you~538000.txt', 'cunninlynguists-whatll+you+do~356000.txt', 'jaden+smith-electric~889000.txt', 'nujabes-perfect+circle~234000.txt', 'binary+star-conquistadors~271000.txt', 'towkio-lose+me+i+dont+mind~89000.txt', 'chris+webby-blunt+ride+cypher~5696000.txt', 'roc+marciano-love+means~243000.txt', 'joyner+lucas-half+nigga~641000.txt', 'drapht-lost~156000.txt', 'yung+lean-friday+the+13th~830000.txt', 'skee+lo-come+back+to+me~121000.txt', 'mr+sos-bionic~36000.txt', 'drapht-bali+party~764000.txt', 'dj+shadow-give+me+back+the+nights~228000.txt', 'skee+lo-top+of+the+stairs~483000.txt', 'chiddy+bang-been+a+while~242000.txt', 'nliten-lite+it+up~1000.txt', 'tonedeff-pervert~77000.txt', 'tonedeff-disappointed~65000.txt', 'yung+lean-stars+align~823000.txt', 'mr+sos-the+balance~15000.txt', 'jaden+smith-falcon~719000.txt', 'roc+marciano-corniche~331000.txt', 'fetty+wap-you+dont+know~673000.txt', 'joyner+lucas-wwjd~780000.txt', 'drapht-boom+boom+boom~273000.txt', 'roc+marciano-cut+the+check~82000.txt', 'oncue-this+is+not+a+song~47000.txt', 'oncue-cereal~79000.txt', 'yonas-mindless~434000.txt', 'outkast-synthesizer~585000.txt', 'towkio-alone~66000.txt', 'biz+markie-throw+back~82000.txt', 'lupe+fiasco-sun+god+sam~536000.txt', 'lupe+fiasco-xo~630000.txt', 'fetty+wap-what+we+do~416000.txt', 'biz+markie-party+to+the+break+a+day~17000.txt', 'outkast-pj+rooster~827000.txt', 'dj+shadow-you+made+it~770000.txt', 'cunninlynguists-dying+nation~125000.txt', 'biz+markie-turn+back+the+hands+of+time+feat+lil+kal~40000.txt', 'tonedeff-masochist~253000.txt', 'roc+marciano-confucius~62000.txt', 'dj+shadow-hindsight~366000.txt', 'chris+webby-take+me+home~831000.txt', 'binary+star-masters+of+the+universe~493000.txt', 'aer-ex~830000.txt', 'fetty+wap-hit+some+corners~714000.txt', 'chris+webby-through+the+roof~630000.txt', 'kinetics+one+love-still+dreamin~660000.txt', 'yung+lean-deathstar+getting+benjamins~876000.txt', 'lupe+fiasco-stronger~474000.txt', 'drapht-the+money~425000.txt', 'outkast-return+of+the+g~828000.txt', 'yonas-yall+know~558000.txt', 'immortal+technique-crimes+of+the+heart~887000.txt', 'yung+lean-snakeskin+bullets~729000.txt', 'biz+markie-chinese+food~112000.txt', 'roc+marciano-20+guns~85000.txt', 'aer-stars~958000.txt', 'yung+lean-bender+girlfriend~411000.txt', 'roc+marciano-death+parade~131000.txt', 'dj+shadow-circular+logic+front+to+back~201000.txt', 'busdriver-avantcore~115000.txt', 'cyne-free~19000.txt', 'tonedeff-shag~23000.txt', 'skee+lo-crenshaw~81000.txt', 'roc+marciano-congo~30000.txt', 'yung+lean-trashy~496000.txt']\n",
      "Oh no! Something is wrong. Check your code which loads the reviews\n"
     ]
    }
   ],
   "source": [
    "PATH_TO_DATA = 'lyrics'\n",
    "\n",
    "RAP_POS_LABEL = 'popular_rap'\n",
    "RAP_NEG_LABEL = 'unpopular_rap'\n",
    "COUNTRY_POS_LABEL = 'popular_country'\n",
    "COUNTRY_NEG_LABEL = 'unpopular_country'\n",
    "\n",
    "RAP_DIR = os.path.join(PATH_TO_DATA, \"rap\")\n",
    "COUNTRY_DIR = os.path.join(PATH_TO_DATA, \"country\")\n",
    "\n",
    "RAP_TRAIN_DIR = os.path.join(RAP_DIR, \"train\")\n",
    "RAP_TEST_DIR = os.path.join(RAP_DIR, \"test\")\n",
    "COUNTRY_TRAIN_DIR = os.path.join(COUNTRY_DIR, \"train\")\n",
    "COUNTRY_TEST_DIR = os.path.join(COUNTRY_DIR, \"test\")\n",
    "\n",
    "for label in [RAP_POS_LABEL, RAP_NEG_LABEL]:\n",
    "    print(label)\n",
    "    if label == RAP_POS_LABEL:\n",
    "        print(os.listdir(RAP_TRAIN_DIR + \"/\" + label))\n",
    "        for file in os.listdir(RAP_TRAIN_DIR + \"/\" + label):\n",
    "            string = file.split('+')\n",
    "            print(string)\n",
    "        if len(os.listdir(RAP_TRAIN_DIR + \"/\" + label)) == 12:\n",
    "            print(\"Great! You have 12 {} reviews in {}\".format(label, RAP_TRAIN_DIR + \"/\" + label))\n",
    "        else:\n",
    "            print(\"Oh no! Something is wrong. Check your code which loads the reviews\")\n",
    "    else:\n",
    "        print(os.listdir(RAP_TRAIN_DIR + \"/\" + label))\n",
    "        if len(os.listdir(RAP_TRAIN_DIR + \"/\" + label)) == 7:\n",
    "            print(\"Great! You have 7 {} reviews in {}\".format(label, RAP_TRAIN_DIR + \"/\" + label))\n",
    "        else:\n",
    "            print(\"Oh no! Something is wrong. Check your code which loads the reviews\")"
   ]
  },
  {
   "cell_type": "code",
   "execution_count": null,
   "metadata": {},
   "outputs": [],
   "source": [
    "# Actually reading the data you are working with is an important part of NLP! Let's look at one of these reviews\n",
    "\n",
    "print (open(TRAIN_DIR + \"/neg/98_1.txt\").read())"
   ]
  },
  {
   "cell_type": "markdown",
   "metadata": {},
   "source": [
    "## Part One: Intro to NLP in Python: types, tokens and Zipf's law"
   ]
  },
  {
   "cell_type": "markdown",
   "metadata": {},
   "source": [
    "#### Types and tokens\n",
    "\n",
    "One major part of any NLP project is word tokenization. Word tokenization is the task of segmenting text into individual words, called tokens. In this assignment, we will use simple whitespace tokenization. Take a look at the `tokenize_doc` function in `hw_1.py`. **You should not modify tokenize_doc** but make sure you understand what it is doing."
   ]
  },
  {
   "cell_type": "code",
   "execution_count": null,
   "metadata": {},
   "outputs": [],
   "source": [
    "# We have provided a tokenize_doc function in hw_1.py. Here is a short demo of how it works\n",
    "\n",
    "d1 = \"This SAMPLE doc has   words tHat  repeat repeat\"\n",
    "bow = tokenize_doc(d1)\n",
    "\n",
    "assert bow['this'] == 1\n",
    "assert bow['sample'] == 1\n",
    "assert bow['doc'] == 1\n",
    "assert bow['has'] == 1\n",
    "assert bow['words'] == 1\n",
    "assert bow['that'] == 1\n",
    "assert bow['repeat'] == 2\n",
    "\n",
    "bow2 = tokenize_doc(\"CMPSCI 585 is already my favorite class this semester!\")\n",
    "for b in bow2:\n",
    "    print (b)"
   ]
  },
  {
   "cell_type": "markdown",
   "metadata": {},
   "source": [
    "Now we are going to look at the word types and word tokens in the corpus.\n",
    "Use the `word_counts` dictionary variable to store the count of each word in the corpus.\n",
    "Use the `tokenize_doc` function to break documents into tokens. **You should not modify tokenize_doc** but make sure you understand what it is doing."
   ]
  },
  {
   "cell_type": "markdown",
   "metadata": {},
   "source": [
    "**Question 1.1 (5 points)**\n",
    "\n",
    "Complete the cell below to fill out the `word_counts` dictionary variable. `word_counts` keeps track of how many times a word type appears across the corpus. For instance, `word_counts[\"movie\"]` should store the number 61492 -- the count of how many times the word `movie` appears in the corpus."
   ]
  },
  {
   "cell_type": "code",
   "execution_count": null,
   "metadata": {},
   "outputs": [],
   "source": [
    "import glob\n",
    "import codecs\n",
    "from collections import Counter\n",
    "\n",
    "word_counts = Counter() # Counters are often useful for NLP in python\n",
    "\n",
    "corpus = ''\n",
    "for label in [RAP_POS_LABEL, RAP_NEG_LABEL]:\n",
    "    for directory in [RAP_TRAIN_DIR, RAP_TEST_DIR]:\n",
    "        for fn in glob.glob(directory + \"/\" + label + \"/*txt\"):\n",
    "            print(fn)\n",
    "            doc = codecs.open(fn, encoding = \"ISO-8859-1\") # Open the file with UTF-8 encoding\n",
    "            corpus += doc.read() + ' '\n",
    "    \n",
    "word_counts = Counter(tokenize_doc(corpus))"
   ]
  },
  {
   "cell_type": "code",
   "execution_count": null,
   "metadata": {},
   "outputs": [],
   "source": [
    "# you should see 61492 instances of the word type \"movie\" in the corpus. \n",
    "if word_counts[\"movie\"] == 61492:\n",
    "    print (\"yay! there are {} total instances of the word type movie in the corpus\".format(word_counts[\"movie\"]))\n",
    "else:\n",
    "    print (\"hmm. Something seems off. Double check your code\")"
   ]
  },
  {
   "cell_type": "markdown",
   "metadata": {},
   "source": [
    "**Question 1.2 (5 points)**\n",
    "\n",
    "Take a look at the following values:"
   ]
  },
  {
   "cell_type": "code",
   "execution_count": null,
   "metadata": {},
   "outputs": [],
   "source": [
    "print (\"there are {} word types in the corpus\".format(n_word_types(word_counts)))\n",
    "print (\"there are {} word tokens in the corpus\".format(n_word_tokens(word_counts)))"
   ]
  },
  {
   "cell_type": "markdown",
   "metadata": {},
   "source": [
    "You should see a much higher number of tokens than types. Why is that?"
   ]
  },
  {
   "cell_type": "markdown",
   "metadata": {},
   "source": [
    "Word types are the distinct words that appear in the corpus and the word tokens are the number of times each word type appears in the corpus. "
   ]
  },
  {
   "cell_type": "markdown",
   "metadata": {},
   "source": [
    "**Question 1.3 (5 points)**\n",
    "\n",
    "Using the word_counts dictionary you just created, make a new dictionary called sorted_dict where the words are sorted according to their counts, in decending order:"
   ]
  },
  {
   "cell_type": "code",
   "execution_count": null,
   "metadata": {},
   "outputs": [],
   "source": [
    "import operator\n",
    "sorted_dict = sorted(word_counts.items(), key=operator.itemgetter(1), reverse=True)"
   ]
  },
  {
   "cell_type": "markdown",
   "metadata": {},
   "source": [
    "Now print the first 30 values from sorted_dict. "
   ]
  },
  {
   "cell_type": "code",
   "execution_count": null,
   "metadata": {},
   "outputs": [],
   "source": [
    "for i in range(30):\n",
    "    print(sorted_dict[i])\n"
   ]
  },
  {
   "cell_type": "markdown",
   "metadata": {},
   "source": [
    "#### Zipf's Law\n",
    "\n",
    "**Question 1.4 (5 points)**\n",
    "\n",
    "In this section, you will verify a key statistical properties of text: [Zipf's Law](https://en.wikipedia.org/wiki/Zipf%27s_law).\n",
    "\n",
    "Zipf's Law describes the relations between the frequency rank of words and frequency value of words.  For a word $w$, its frequency is inversely proportional to its rank:\n",
    "\n",
    "$$count_w = K \\frac{1}{rank_w}$$\n",
    "or in other words\n",
    "$$\\log(count_w) = K - \\log(rank_w)$$\n",
    "\n",
    "for some constant $K$, specific to the corpus and how words are being defined.\n",
    "\n",
    "Therefore, if Zipf's Law holds, after sorting the words descending on frequency, word frequency decreases in an approximately linear fashion under a log-log scale.\n",
    "\n",
    "Please make such a log-log plot by ploting the rank versus frequency **Hint: Make use of the sorted dictionary you just created.**.  Use a scatter plot where the x-axis is the *log(rank)*, and y-axis is *log(frequency)*.  You should get this information from `word_counts`; for example, you can take the individual word counts and sort them.  dict methods `.items()` and/or `values()` may be useful.  (Note that it doesn't really matter whether ranks start at 1 or 0 in terms of how the plot comes out.) You can check your results by comparing your plots to ones on Wikipedia; they should look qualitatively similar.\n",
    "\n",
    "*Please remember to label the meaning of the x-axis and y-axis.*"
   ]
  },
  {
   "cell_type": "code",
   "execution_count": null,
   "metadata": {},
   "outputs": [],
   "source": [
    "import math\n",
    "import operator\n",
    "x = []\n",
    "y = []\n",
    "X_LABEL = \"log(rank)\"\n",
    "Y_LABEL = \"log(frequency)\"\n",
    "\n",
    "for i in range(len(sorted_dict)):\n",
    "    x += [math.log(i+1)]\n",
    "    y += [math.log(sorted_dict[i][1])]\n",
    "\n",
    "plt.scatter(x, y)\n",
    "plt.xlabel(X_LABEL)\n",
    "plt.ylabel(Y_LABEL)"
   ]
  },
  {
   "cell_type": "markdown",
   "metadata": {},
   "source": [
    "**Question 1.5 (5 points)**\n",
    "\n",
    "You should see some discontinuities on the left and right sides of this figure.  Why are we seeing them on the left?  Why are we seeing them on the right?  On the right, what are those \"ledges\"?"
   ]
  },
  {
   "cell_type": "markdown",
   "metadata": {},
   "source": [
    "We are seeing discontinuities on the left and right due to the nature of log growth. As x goes to 1 in log(x), the the growth of log(x) to log(x+1) is large. The ledges on the right are the infrequent words. There are many words that show up only once or twice in the text, and the large amounts of them create a ledge in the graph."
   ]
  },
  {
   "cell_type": "markdown",
   "metadata": {},
   "source": [
    "## Part Two: Naive Bayes"
   ]
  },
  {
   "cell_type": "markdown",
   "metadata": {},
   "source": [
    "This section of the homework will walk you through coding a Naive Bayes classifier that can distinguish between positive and negative reviews (at some level of accuracy)."
   ]
  },
  {
   "cell_type": "markdown",
   "metadata": {},
   "source": [
    "**Question 2.1 (10 pts) ** \n",
    "\n",
    "To start, implement the `update_model` function in `hw1.py`. Make sure to read the function comments so you know what to update. Also review the NaiveBayes class variables in the `def __init__` method of the NaiveBayes class  to get a sense of which statistics are important to keep track of. Once you have implemented `update_model`, run the train model function using the code below. What is the size of the vocabulary used in the training documents? You’ll need to provide the path to the dataset you downloaded to run the code."
   ]
  },
  {
   "cell_type": "code",
   "execution_count": 14,
   "metadata": {},
   "outputs": [
    {
     "name": "stdout",
     "output_type": "stream",
     "text": [
      "#### BEGIN MODEL TRAINING ####\n",
      "REPORTING CORPUS STATISTICS\n",
      "NUMBER OF RAP SONGS IN EXTREMELY POPULAR CLASS: 22.0\n",
      "NUMBER OF RAP SONGS IN VERY POPULAR CLASS: 17.0\n",
      "NUMBER OF RAP SONGS IN STANDARD POPULAR CLASS: 12.0\n",
      "NUMBER OF RAP SONGS IN EXTREMELY UNPOPULAR CLASS: 26.0\n",
      "NUMBER OF RAP SONGS IN VERY UNPOPULAR CLASS: 36.0\n",
      "NUMBER OF RAP SONGS IN STANDARD UNPOPULAR CLASS: 37.0\n",
      "NUMBER OF COUNTRY SONGS IN EXTREMELY POPULAR CLASS: 0.0\n",
      "NUMBER OF COUNTRY SONGS IN VERY POPULAR CLASS: 0.0\n",
      "NUMBER OF COUNTRY SONGS IN STANDARD POPULAR CLASS: 0.0\n",
      "NUMBER OF COUNTRY SONGS IN EXTREMELY UNPOPULAR CLASS: 0.0\n",
      "NUMBER OF COUNTRY SONGS IN VERY UNPOPULAR CLASS: 0.0\n",
      "NUMBER OF COUNTRY SONGS IN STANDARD UNPOPULAR CLASS: 0.0\n",
      "NUMBER OF TOKENS IN RAP EXTREMELY POPULAR CLASS: 12075.0\n",
      "NUMBER OF TOKENS IN RAP VERY POPULAR CLASS: 9437.0\n",
      "NUMBER OF TOKENS IN RAP STANDARD POPULAR CLASS: 5335.0\n",
      "NUMBER OF TOKENS IN RAP EXTREMELY UNPOPULAR CLASS: 10908.0\n",
      "NUMBER OF TOKENS IN RAP VERY UNPOPULAR CLASS: 15504.0\n",
      "NUMBER OF TOKENS IN RAP STANDARD UNPOPULAR CLASS: 16129.0\n",
      "NUMBER OF TOKENS IN COUNTRY EXTREMELY POPULAR CLASS: 0.0\n",
      "NUMBER OF TOKENS IN COUNTRY VERY POPULAR CLASS: 0.0\n",
      "NUMBER OF TOKENS IN COUNTRY STANDARD POPULAR CLASS: 0.0\n",
      "NUMBER OF TOKENS IN COUNTRY EXTREMELY UNPOPULAR CLASS: 0.0\n",
      "NUMBER OF TOKENS IN COUNTRY VERY UNPOPULAR CLASS: 0.0\n",
      "NUMBER OF TOKENS IN COUNTRY STANDARD UNPOPULAR CLASS: 0.0\n",
      "VOCABULARY SIZE: NUMBER OF UNIQUE WORDTYPES IN TRAINING CORPUS FOR RAP: 8512\n",
      "VOCABULARY SIZE: NUMBER OF UNIQUE WORDTYPES IN TRAINING CORPUS FOR COUNTRY: 0\n",
      "#### END MODEL TRAINING ####\n",
      "#### BEGIN ACCURACY TEST ####\n",
      "72.64150943396227\n",
      "#### END ACCURAACY TEST ###\n",
      "REPORTING CORPUS STATISTICS\n",
      "NUMBER OF RAP SONGS IN EXTREMELY POPULAR CLASS: 22.0\n",
      "NUMBER OF RAP SONGS IN VERY POPULAR CLASS: 17.0\n",
      "NUMBER OF RAP SONGS IN STANDARD POPULAR CLASS: 12.0\n",
      "NUMBER OF RAP SONGS IN EXTREMELY UNPOPULAR CLASS: 26.0\n",
      "NUMBER OF RAP SONGS IN VERY UNPOPULAR CLASS: 36.0\n",
      "NUMBER OF RAP SONGS IN STANDARD UNPOPULAR CLASS: 37.0\n",
      "NUMBER OF COUNTRY SONGS IN EXTREMELY POPULAR CLASS: 0.0\n",
      "NUMBER OF COUNTRY SONGS IN VERY POPULAR CLASS: 0.0\n",
      "NUMBER OF COUNTRY SONGS IN STANDARD POPULAR CLASS: 0.0\n",
      "NUMBER OF COUNTRY SONGS IN EXTREMELY UNPOPULAR CLASS: 0.0\n",
      "NUMBER OF COUNTRY SONGS IN VERY UNPOPULAR CLASS: 0.0\n",
      "NUMBER OF COUNTRY SONGS IN STANDARD UNPOPULAR CLASS: 0.0\n",
      "NUMBER OF TOKENS IN RAP EXTREMELY POPULAR CLASS: 12075.0\n",
      "NUMBER OF TOKENS IN RAP VERY POPULAR CLASS: 9437.0\n",
      "NUMBER OF TOKENS IN RAP STANDARD POPULAR CLASS: 5335.0\n",
      "NUMBER OF TOKENS IN RAP EXTREMELY UNPOPULAR CLASS: 10908.0\n",
      "NUMBER OF TOKENS IN RAP VERY UNPOPULAR CLASS: 15504.0\n",
      "NUMBER OF TOKENS IN RAP STANDARD UNPOPULAR CLASS: 16129.0\n",
      "NUMBER OF TOKENS IN COUNTRY EXTREMELY POPULAR CLASS: 0.0\n",
      "NUMBER OF TOKENS IN COUNTRY VERY POPULAR CLASS: 0.0\n",
      "NUMBER OF TOKENS IN COUNTRY STANDARD POPULAR CLASS: 0.0\n",
      "NUMBER OF TOKENS IN COUNTRY EXTREMELY UNPOPULAR CLASS: 0.0\n",
      "NUMBER OF TOKENS IN COUNTRY VERY UNPOPULAR CLASS: 0.0\n",
      "NUMBER OF TOKENS IN COUNTRY STANDARD UNPOPULAR CLASS: 0.0\n",
      "VOCABULARY SIZE: NUMBER OF UNIQUE WORDTYPES IN TRAINING CORPUS FOR RAP: 8512\n",
      "VOCABULARY SIZE: NUMBER OF UNIQUE WORDTYPES IN TRAINING CORPUS FOR COUNTRY: 0\n"
     ]
    },
    {
     "ename": "AttributeError",
     "evalue": "'NaiveBayesTextClassification' object has no attribute 'vocab'",
     "output_type": "error",
     "traceback": [
      "\u001b[0;31m---------------------------------------------------------------------------\u001b[0m",
      "\u001b[0;31mAttributeError\u001b[0m                            Traceback (most recent call last)",
      "\u001b[0;32m<ipython-input-14-1ab8f07b28f9>\u001b[0m in \u001b[0;36m<module>\u001b[0;34m()\u001b[0m\n\u001b[1;32m      3\u001b[0m \u001b[0;34m\u001b[0m\u001b[0m\n\u001b[1;32m      4\u001b[0m \u001b[0;34m\u001b[0m\u001b[0m\n\u001b[0;32m----> 5\u001b[0;31m \u001b[0;32mif\u001b[0m \u001b[0mlen\u001b[0m\u001b[0;34m(\u001b[0m\u001b[0mnb\u001b[0m\u001b[0;34m.\u001b[0m\u001b[0mvocab\u001b[0m\u001b[0;34m)\u001b[0m \u001b[0;34m==\u001b[0m \u001b[0;36m251637\u001b[0m\u001b[0;34m:\u001b[0m\u001b[0;34m\u001b[0m\u001b[0m\n\u001b[0m\u001b[1;32m      6\u001b[0m     \u001b[0mprint\u001b[0m \u001b[0;34m(\u001b[0m\u001b[0;34m\"Great! The vocabulary size is {}\"\u001b[0m\u001b[0;34m.\u001b[0m\u001b[0mformat\u001b[0m\u001b[0;34m(\u001b[0m\u001b[0;36m251637\u001b[0m\u001b[0;34m)\u001b[0m\u001b[0;34m)\u001b[0m\u001b[0;34m\u001b[0m\u001b[0m\n\u001b[1;32m      7\u001b[0m \u001b[0;32melse\u001b[0m\u001b[0;34m:\u001b[0m\u001b[0;34m\u001b[0m\u001b[0m\n",
      "\u001b[0;31mAttributeError\u001b[0m: 'NaiveBayesTextClassification' object has no attribute 'vocab'"
     ]
    }
   ],
   "source": [
    "nb = NaiveBayesTextClassification(PATH_TO_DATA, tokenizer=tokenize_doc)\n",
    "nb.train_model()\n",
    "\n",
    "\n",
    "if len(nb.vocab) == 251637:\n",
    "    print (\"Great! The vocabulary size is {}\".format(251637))\n",
    "else:\n",
    "    print (\"Oh no! Something seems off. Double check your code before continuing. Maybe a mistake in update_model?\")"
   ]
  },
  {
   "cell_type": "markdown",
   "metadata": {},
   "source": [
    "#### Exploratory analysis\n",
    "\n",
    "Let’s begin to explore the count statistics stored by the update model function. Implement the provided `top_n` function to find the top 10 most common words in the positive class and top 10 most common words in the negative class. "
   ]
  },
  {
   "cell_type": "code",
   "execution_count": null,
   "metadata": {},
   "outputs": [],
   "source": [
    "print (\"TOP 10 WORDS FOR CLASS \" + RAP_POS_LABEL + \":\")\n",
    "for tok, count in nb.top_n(RAP_POS_LABEL, 10):\n",
    "    print ('', tok, count)\n",
    "print ()\n",
    "\n",
    "print (\"TOP 10 WORDS FOR CLASS \" + RAP_NEG_LABEL + \":\")\n",
    "for tok, count in nb.top_n(RAP_NEG_LABEL, 10):\n",
    "    print ('', tok, count)\n",
    "print ()"
   ]
  },
  {
   "cell_type": "markdown",
   "metadata": {},
   "source": [
    "**Question 2.2 (5 points)**\n",
    "\n",
    "What is the first thing that you notice when you look at the top 10 words for the 2 classes? Are these words helpful for discriminating between the two classes? Do you think this trend carries forward to other texts from the English language? What about other languages?"
   ]
  },
  {
   "cell_type": "markdown",
   "metadata": {},
   "source": [
    "The top 10 words for the 2 classes are practically identical. These words are not helpful for discriminating between the 2 classes. This trend carries to other texts in and out of the English language because there are many pronouns and prepositions that are commonly used throughtout all languages."
   ]
  },
  {
   "cell_type": "markdown",
   "metadata": {},
   "source": [
    "**Question 2.3 (10 pts) **\n",
    "\n",
    "The Naive Bayes model assumes that all features are conditionally independent given the class label. For our purposes, this means that the probability of seeing a particular word in a document with class label $y$ is independent of the rest of the words in that document. Implement the `p_word_given_label` function. This function calculates P (w|y) (i.e., the probability of seeing word w in a document given the label of that document is y)."
   ]
  },
  {
   "cell_type": "markdown",
   "metadata": {},
   "source": [
    "Use your `p_word_given_label` function to compute the probability of seeing the word “amazing” given each sentiment label. Repeat the computation for the word “dull.” "
   ]
  },
  {
   "cell_type": "code",
   "execution_count": null,
   "metadata": {},
   "outputs": [],
   "source": [
    "print (\"P('amazing'|pos):\",  nb.p_word_given_label(\"fuck\", RAP_POS_LABEL))\n",
    "print (\"P('amazing'|neg):\",  nb.p_word_given_label(\"fuck\", RAP_NEG_LABEL))\n",
    "print (\"P('dull'|pos):\",  nb.p_word_given_label(\"money\", RAP_POS_LABEL))\n",
    "print (\"P('dull'|neg):\",  nb.p_word_given_label(\"money\", RAP_NEG_LABEL))"
   ]
  },
  {
   "cell_type": "markdown",
   "metadata": {},
   "source": [
    "Which word has a higher probability, given the positive class? Which word has a higher probability, given the negative class? Is this behavior expected?"
   ]
  },
  {
   "cell_type": "markdown",
   "metadata": {},
   "source": [
    "Given the positive class, 'amazing' has the higher probability. Given the negative class, 'dull' has the higher probability. This is expected since 'amazing' is usually associated with positive connotations while 'dull' is assiciated with negative connotations."
   ]
  },
  {
   "cell_type": "markdown",
   "metadata": {},
   "source": [
    "What is the purpose of the independence assumption for the Naive Bayes classifier?"
   ]
  },
  {
   "cell_type": "markdown",
   "metadata": {},
   "source": [
    "In the Naive Bayes classifier, we are not worried about the order of words and their relations with other words. Because of this, we can assume that probabilites for these words are all independent of each other. "
   ]
  },
  {
   "cell_type": "markdown",
   "metadata": {},
   "source": [
    "**Question 2.4 (5 pts)**\n",
    "\n",
    "In the next cell, compute the probability of the word \"stop-sign.\" in the positive training data and negative training data."
   ]
  },
  {
   "cell_type": "code",
   "execution_count": null,
   "metadata": {},
   "outputs": [],
   "source": [
    "print (\"P('stop-sign.'|pos):\",  nb.p_word_given_label(\"fuck\", RAP_POS_LABEL))\n",
    "print (\"P('stop-sign.'|neg):\",  nb.p_word_given_label(\"fuck\", RAP_NEG_LABEL))"
   ]
  },
  {
   "cell_type": "markdown",
   "metadata": {},
   "source": [
    "What is unusual about P('stop-sign.'|pos)? Why is this a problem?"
   ]
  },
  {
   "cell_type": "markdown",
   "metadata": {},
   "source": [
    "The word 'stop-sign.' does not come up in the pos class. However, 'stop-sign.' is ambiguous and does not hold that much of a relation to a positive or negative review. Thus, by our current probability, see the word 'stop-sign.' would automatically make the review a negative review even though it shows low significance. "
   ]
  },
  {
   "cell_type": "markdown",
   "metadata": {},
   "source": [
    "**Question 2.5 (5 pts)**\n",
    "\n",
    "We can address the issues from question 2.4 with add-$\\alpha$ smoothing (like add-1 smoothing except instead of adding 1 we add $\\alpha$). Implement\n",
    "`p_word_given_label_and_alpha` and then run the next cell. Hint: look at the slides from the lecture and the corresponding exercise on add-1 smoothing."
   ]
  },
  {
   "cell_type": "code",
   "execution_count": null,
   "metadata": {},
   "outputs": [],
   "source": [
    "print (\"P('stop-sign.'|pos):\",  nb.p_word_given_label_and_alpha(\"fuck\", RAP_POS_LABEL, 0.2))"
   ]
  },
  {
   "cell_type": "markdown",
   "metadata": {},
   "source": [
    "**Question 2.6 (5 pts)** \n",
    "\n",
    "*Prior and Likelihood* \n",
    "\n",
    "As noted before, the Naive Bayes model assumes that all words in a document are independent of one another given the document’s label. Because of this we can write the likelihood of a document as:\n",
    "\n",
    "$P(w_{d1},\\cdots,w_{dn}|y_d) = \\prod_{i=1}^{n}P(w_{di}|y_d)$\n",
    "\n",
    "However, if a document has a lot of words, the likelihood will become extremely small and we’ll encounter numerical underflow. Underflow is a common problem when dealing with probabilistic models; if you are unfamiliar with it, you can get a brief overview on [Wikipedia](https:/en.wikipedia.org/wiki/Arithmetic_underflow). To deal with underflow, a common transformation is to work in log-space.\n",
    "\n",
    "$\\log[P(w_{d1},\\cdots,w_{dn}|y_d)] = \\sum_{i=1}^{n}\\log[P(w_{di}|y_d)]$"
   ]
  },
  {
   "cell_type": "markdown",
   "metadata": {},
   "source": [
    "Implement the log_likelihood function (Hint: it should make calls to the p word given label and alpha function). Implement the log_prior function. This function takes a class label and returns the log of the fraction of the training documents that are of that label."
   ]
  },
  {
   "cell_type": "markdown",
   "metadata": {},
   "source": [
    "**Question 2.7 (5 pts) **\n",
    "\n",
    "Naive Bayes is a model that tells us how to compute the posterior\n",
    "probability of a document being of some label (i.e.,\n",
    "$P(y_d|\\mathbf{w_d})$).  Specifically, we do so using bayes rule:\n",
    "\n",
    "  $P(y_d|\\mathbf{w_d}) = \\frac{P(y_d)P(\\mathbf{w_d}|y_d)}{P(\\mathbf{w_d})}$\n",
    "\n",
    "In the previous section you implemented functions to compute both\n",
    "the log prior ($\\log[P(y_d)]$) and the log likelihood\n",
    "($\\log[P( \\mathbf{w_d} |y_d)]$ ). Now, all you're missing is the\n",
    "*normalizer*, $P(\\mathbf{w_d})$."
   ]
  },
  {
   "cell_type": "markdown",
   "metadata": {},
   "source": [
    "Derive the normalizer by expanding $P(\\mathbf{w_d})$."
   ]
  },
  {
   "cell_type": "markdown",
   "metadata": {},
   "source": [
    "$P(w_d) = \\prod_{i=0}^{n} P(w_{i})$ "
   ]
  },
  {
   "cell_type": "markdown",
   "metadata": {},
   "source": [
    "**Question 2.8 (5 pts)**\n",
    "\n",
    "One way to classify a document is to compute the unnormalized log posterior for both labels and take the argmax (i.e., the label that yields the higher unnormalized log posterior). The unnormalized log posterior is the sum of the log prior and the log likelihood of the document. Why don’t we need to compute the log normalizer here?"
   ]
  },
  {
   "cell_type": "markdown",
   "metadata": {},
   "source": [
    "Since we are calculating probabilites for individual words and not phrases, there are no dependencies for these probabilities. Additionally, order does not matter during out calculations. Thus, all words are independent of each toher and there is no need to normalize the log posterior."
   ]
  },
  {
   "cell_type": "markdown",
   "metadata": {},
   "source": [
    "**Question 2.9 (5 pts)**\n",
    "\n",
    "As we saw earlier, the top 10 words from each class do not give us much to go on when classifying a document. A much more powerful metric is the likelihood ratio, which is defined as\n",
    "\n",
    "$LR(w)=\\frac{P(w|y=\\mathrm{pos})}{P(w|y=\\mathrm{neg})}$\n",
    "\n",
    "A word with LR 3 is 3 times more likely to appear in the positive class than in the negative. A word with LR 0.3 is one-third as likely to appear in the positive class as opposed to the negative class."
   ]
  },
  {
   "cell_type": "code",
   "execution_count": null,
   "metadata": {},
   "outputs": [],
   "source": [
    "# Implement the nb.likelihood_ratio function and use it to investigate the likelihood ratio of \"amazing\" and \"dull\"\n",
    "print (\"LIKELIHOOD RATIO OF 'amazing':\", nb.likelihood_ratio('fuck', 0.2))\n",
    "print (\"LIKELIHOOD RATIO OF 'dull':\", nb.likelihood_ratio('funk', 0.2))\n",
    "print (\"LIKELIHOOD RATIO OF 'and':\", nb.likelihood_ratio('police', 0.2))\n",
    "print (\"LIKELIHOOD RATIO OF 'to':\", nb.likelihood_ratio('her', 0.2))"
   ]
  },
  {
   "cell_type": "markdown",
   "metadata": {},
   "source": [
    "What is the minimum and maximum possible values the likelihood ratio can take?"
   ]
  },
  {
   "cell_type": "markdown",
   "metadata": {},
   "source": [
    "The range for the likelihood ratio is (0, $\\infty$). The likelihood ratio will approach 0, but cannot be 0 because we are applying add-alpha smoothing to the probabilities."
   ]
  },
  {
   "cell_type": "markdown",
   "metadata": {},
   "source": [
    "Find the word in the vocabulary with the highest likelihood ratio below."
   ]
  },
  {
   "cell_type": "code",
   "execution_count": null,
   "metadata": {},
   "outputs": [],
   "source": [
    "highest = -1\n",
    "word = None\n",
    "for n in nb.vocab:\n",
    "    temp = nb.likelihood_ratio(n, 0.2)\n",
    "    if temp > highest: \n",
    "        highest = temp\n",
    "        word = n\n",
    "print (word, highest)"
   ]
  },
  {
   "cell_type": "markdown",
   "metadata": {},
   "source": [
    "**Question 2.10 (5 pts)**\n",
    "\n",
    "The unnormalized log posterior is the sum of the log prior and the log likelihood of the document. Implement the `unnormalized_log_posterior` function and the `classify` function. The `classify` function should use the unnormalized log posteriors but should not compute the normalizer. Once you implement the `classify` function, we'd like to evaluate its accuracy."
   ]
  },
  {
   "cell_type": "code",
   "execution_count": 11,
   "metadata": {},
   "outputs": [
    {
     "name": "stdout",
     "output_type": "stream",
     "text": [
      "#### BEGIN MODEL TRAINING ####\n",
      "lil+pump-boss~124000000.txt\n",
      "aer-wont+laugh~1800000.txt\n",
      "kanye+west-blood+on+the+leaves~88000000.txt\n",
      "nicki+minaj-chun+li~126000000.txt\n",
      "tyler+the+creator-boredom~66000000.txt\n",
      "childish+gambino-freaks+and+geeks~25000000.txt\n",
      "jaden+smith-syre~4815000.txt\n",
      "migos-motorsport~269000000.txt\n",
      "aer-whatever+we+want~1001000.txt\n",
      "chance+the+rapper-smoke+break~107000000.txt\n",
      "chance+the+rapper-juke+jam~174000000.txt\n",
      "tyler+the+creator-who+dat+boy+feat+aap+rocky~87000000.txt\n",
      "lil+pump-jettski+grizzley~41000000.txt\n",
      "meek+mill-on+me~3500000.txt\n",
      "kanye+west-gold+digger~378000000.txt\n",
      "chance+the+rapper-all+night~168000000.txt\n",
      "kendrick+lamar-swimming+pools~218000000.txt\n",
      "lil+pump-flex+like+ouu~109000000.txt\n",
      "kodak+black-calling+my+spirit~1900000.txt\n",
      "kanye+west-famous~312000000.txt\n",
      "migos-narcos~172000000.txt\n",
      "migos-notice+me~88000000.txt\n",
      "aer-come+go~1776000.txt\n",
      "migos-culture~31000000.txt\n",
      "skee+lo-i+wish~36000000.txt\n",
      "packy-wobbin~4582000.txt\n",
      "drake-nonstop~318000000.txt\n",
      "lil+pump-esskeetit~138000000.txt\n",
      "lil+pump-gucci+gang~452000000.txt\n",
      "tyler+the+creator-911+mr+lonely~84000000.txt\n",
      "cunninlynguists-beautiful+girl~3083000.txt\n",
      "kendrick+lamar-humble~953000000.txt\n",
      "lil+pump-drug+addict~50000000.txt\n",
      "chance+the+rapper-same+drugs~129000000.txt\n",
      "aer-pretty+lady+around+me~1700000.txt\n",
      "jay+z-99+problems~23000000.txt\n",
      "chance+the+rapper-no+problem~309000000.txt\n",
      "chance+the+rapper-my+own+thing~1400000.txt\n",
      "travis+scott-sicko+mode~362000000.txt\n",
      "chance+the+rapper-all+we+got~115000000.txt\n",
      "eminem-renegade~45000000.txt\n",
      "6ix9ine-tic+toc~15000000.txt\n",
      "tyler+the+creator-see+you+again~113000000.txt\n",
      "migos-bad+and+boujee~523000000.txt\n",
      "childish+gambino-california~34000000.txt\n",
      "nwa-chin+check~24000000.txt\n",
      "nicki+minaj-barbie+tingz~49000000.txt\n",
      "aer-above+my+floor~1072000.txt\n",
      "iggy+azalea-black+widow~306000000.txt\n",
      "aer-floats+my+boat~27000000.txt\n",
      "blue+scholars-selfportrait~320000.txt\n",
      "dj+shadow-stemlong+stem~726000.txt\n",
      "cunninlynguists-break+even~102000.txt\n",
      "outkast-when+i+look+in+your+eyes~732000.txt\n",
      "joyner+lucas-shooting+star~791000.txt\n",
      "lupe+fiasco-gold+vs+the+right+things+to+do~683000.txt\n",
      "tonedeff-optimist~201000.txt\n",
      "yonas-nobody+else~779000.txt\n",
      "skee+lo-waitin+for+you~119000.txt\n",
      "binary+star-solar+powered~194000.txt\n",
      "roc+marciano-already~69000.txt\n",
      "chris+webby-stand+up~800000.txt\n",
      "tayyib+ali-i+want+it+all~1300.txt\n",
      "skee+lo-you+aint+down~78000.txt\n",
      "roc+marciano-death+sentence~265000.txt\n",
      "biz+markie-young+girl+bluez~144000.txt\n",
      "binary+star-indy+500~14000.txt\n",
      "towkio-cntrl~115000.txt\n",
      "towkio-swim~696000.txt\n",
      "kevin+abstract-suburbian+born~970000.txt\n",
      "drapht-put+on+a+record~217000.txt\n",
      "the+deans+list-kryptonite+sanity+room~40000.txt\n",
      "towkio-tear+drop~847000.txt\n",
      "tonedeff-archetype~41000.txt\n",
      "aer-im+not+sorry~883000.txt\n",
      "cunninlynguists-the+light~750000.txt\n",
      "tayyib+ali-like+i+used+to~10000.txt\n",
      "dj+shadow-backstage+girl~240000.txt\n",
      "outkast-skew+it+on+the+bar+b~753000.txt\n",
      "tonedeff-case+closed~147000.txt\n",
      "fetty+wap-all+for+you~538000.txt\n",
      "cunninlynguists-whatll+you+do~356000.txt\n",
      "jaden+smith-electric~889000.txt\n",
      "nujabes-perfect+circle~234000.txt\n",
      "binary+star-conquistadors~271000.txt\n",
      "towkio-lose+me+i+dont+mind~89000.txt\n",
      "chris+webby-blunt+ride+cypher~5696000.txt\n",
      "roc+marciano-love+means~243000.txt\n",
      "joyner+lucas-half+nigga~641000.txt\n",
      "drapht-lost~156000.txt\n",
      "yung+lean-friday+the+13th~830000.txt\n",
      "skee+lo-come+back+to+me~121000.txt\n",
      "mr+sos-bionic~36000.txt\n",
      "drapht-bali+party~764000.txt\n",
      "dj+shadow-give+me+back+the+nights~228000.txt\n",
      "skee+lo-top+of+the+stairs~483000.txt\n",
      "chiddy+bang-been+a+while~242000.txt\n",
      "nliten-lite+it+up~1000.txt\n",
      "tonedeff-pervert~77000.txt\n",
      "tonedeff-disappointed~65000.txt\n",
      "yung+lean-stars+align~823000.txt\n",
      "mr+sos-the+balance~15000.txt\n",
      "jaden+smith-falcon~719000.txt\n",
      "roc+marciano-corniche~331000.txt\n",
      "fetty+wap-you+dont+know~673000.txt\n",
      "joyner+lucas-wwjd~780000.txt\n",
      "drapht-boom+boom+boom~273000.txt\n",
      "roc+marciano-cut+the+check~82000.txt\n",
      "oncue-this+is+not+a+song~47000.txt\n",
      "oncue-cereal~79000.txt\n",
      "yonas-mindless~434000.txt\n",
      "outkast-synthesizer~585000.txt\n",
      "towkio-alone~66000.txt\n",
      "biz+markie-throw+back~82000.txt\n",
      "lupe+fiasco-sun+god+sam~536000.txt\n",
      "lupe+fiasco-xo~630000.txt\n",
      "fetty+wap-what+we+do~416000.txt\n",
      "biz+markie-party+to+the+break+a+day~17000.txt\n",
      "outkast-pj+rooster~827000.txt\n",
      "dj+shadow-you+made+it~770000.txt\n",
      "cunninlynguists-dying+nation~125000.txt\n",
      "biz+markie-turn+back+the+hands+of+time+feat+lil+kal~40000.txt\n",
      "tonedeff-masochist~253000.txt\n",
      "roc+marciano-confucius~62000.txt\n",
      "dj+shadow-hindsight~366000.txt\n",
      "chris+webby-take+me+home~831000.txt\n",
      "binary+star-masters+of+the+universe~493000.txt\n",
      "aer-ex~830000.txt\n",
      "fetty+wap-hit+some+corners~714000.txt\n",
      "chris+webby-through+the+roof~630000.txt\n",
      "kinetics+one+love-still+dreamin~660000.txt\n",
      "yung+lean-deathstar+getting+benjamins~876000.txt\n",
      "lupe+fiasco-stronger~474000.txt\n",
      "drapht-the+money~425000.txt\n",
      "outkast-return+of+the+g~828000.txt\n",
      "yonas-yall+know~558000.txt\n",
      "immortal+technique-crimes+of+the+heart~887000.txt\n",
      "yung+lean-snakeskin+bullets~729000.txt\n",
      "biz+markie-chinese+food~112000.txt\n",
      "roc+marciano-20+guns~85000.txt\n",
      "aer-stars~958000.txt\n",
      "yung+lean-bender+girlfriend~411000.txt\n",
      "roc+marciano-death+parade~131000.txt\n",
      "dj+shadow-circular+logic+front+to+back~201000.txt\n",
      "busdriver-avantcore~115000.txt\n",
      "cyne-free~19000.txt\n",
      "tonedeff-shag~23000.txt\n",
      "skee+lo-crenshaw~81000.txt\n",
      "roc+marciano-congo~30000.txt\n",
      "yung+lean-trashy~496000.txt\n",
      "REPORTING CORPUS STATISTICS\n",
      "NUMBER OF RAP SONGS IN EXTREMELY POPULAR CLASS: 22.0\n",
      "NUMBER OF RAP SONGS IN VERY POPULAR CLASS: 17.0\n",
      "NUMBER OF RAP SONGS IN STANDARD POPULAR CLASS: 12.0\n",
      "NUMBER OF RAP SONGS IN EXTREMELY UNPOPULAR CLASS: 26.0\n",
      "NUMBER OF RAP SONGS IN VERY UNPOPULAR CLASS: 36.0\n",
      "NUMBER OF RAP SONGS IN STANDARD UNPOPULAR CLASS: 37.0\n",
      "NUMBER OF COUNTRY SONGS IN EXTREMELY POPULAR CLASS: 0.0\n",
      "NUMBER OF COUNTRY SONGS IN VERY POPULAR CLASS: 0.0\n",
      "NUMBER OF COUNTRY SONGS IN STANDARD POPULAR CLASS: 0.0\n",
      "NUMBER OF COUNTRY SONGS IN EXTREMELY UNPOPULAR CLASS: 0.0\n",
      "NUMBER OF COUNTRY SONGS IN VERY UNPOPULAR CLASS: 0.0\n",
      "NUMBER OF COUNTRY SONGS IN STANDARD UNPOPULAR CLASS: 0.0\n",
      "NUMBER OF TOKENS IN RAP EXTREMELY POPULAR CLASS: 12075.0\n",
      "NUMBER OF TOKENS IN RAP VERY POPULAR CLASS: 9437.0\n",
      "NUMBER OF TOKENS IN RAP STANDARD POPULAR CLASS: 5335.0\n",
      "NUMBER OF TOKENS IN RAP EXTREMELY UNPOPULAR CLASS: 10908.0\n",
      "NUMBER OF TOKENS IN RAP VERY UNPOPULAR CLASS: 15504.0\n",
      "NUMBER OF TOKENS IN RAP STANDARD UNPOPULAR CLASS: 16129.0\n",
      "NUMBER OF TOKENS IN COUNTRY EXTREMELY POPULAR CLASS: 0.0\n",
      "NUMBER OF TOKENS IN COUNTRY VERY POPULAR CLASS: 0.0\n",
      "NUMBER OF TOKENS IN COUNTRY STANDARD POPULAR CLASS: 0.0\n",
      "NUMBER OF TOKENS IN COUNTRY EXTREMELY UNPOPULAR CLASS: 0.0\n",
      "NUMBER OF TOKENS IN COUNTRY VERY UNPOPULAR CLASS: 0.0\n",
      "NUMBER OF TOKENS IN COUNTRY STANDARD UNPOPULAR CLASS: 0.0\n",
      "VOCABULARY SIZE: NUMBER OF UNIQUE WORDTYPES IN TRAINING CORPUS FOR RAP: 8512\n",
      "VOCABULARY SIZE: NUMBER OF UNIQUE WORDTYPES IN TRAINING CORPUS FOR COUNTRY: 0\n",
      "#### END MODEL TRAINING ####\n",
      "#### BEGIN ACCURACY TEST ####\n",
      "#### END ACCURAACY TEST ###\n",
      "72.64150943396227\n"
     ]
    }
   ],
   "source": [
    "print (nb.evaluate_classifier_accuracy('rap', 0.2))"
   ]
  },
  {
   "cell_type": "markdown",
   "metadata": {},
   "source": [
    "**Question 2.11 (5 pts)**\n",
    "\n",
    "Try evaluating your model again with a smoothing parameter of 1000."
   ]
  },
  {
   "cell_type": "code",
   "execution_count": 13,
   "metadata": {},
   "outputs": [
    {
     "name": "stdout",
     "output_type": "stream",
     "text": [
      "43.39622641509434\n"
     ]
    }
   ],
   "source": [
    "print (nb.evaluate_classifier_accuracy('rap', 1000.0))"
   ]
  },
  {
   "cell_type": "markdown",
   "metadata": {},
   "source": [
    "Does the accuracy go up or down when the pseudo count parameter is raised to 1000? Why do you think this is?"
   ]
  },
  {
   "cell_type": "markdown",
   "metadata": {},
   "source": [
    "The accuracy goes down when we raise the pseudo count paramater to 1000. As we raise the pseudo count parameter to 1000, we are slowly over-estimating for values that would normally have a low probability. By giving these values over-estimated probabilities, we are decreasing our overall accuracy."
   ]
  },
  {
   "cell_type": "markdown",
   "metadata": {},
   "source": [
    "** Question 2.12 (5 pts)** \n",
    "\n",
    "Find a review that your classifier got wrong. "
   ]
  },
  {
   "cell_type": "code",
   "execution_count": null,
   "metadata": {
    "scrolled": true
   },
   "outputs": [],
   "source": [
    "alpha = 1.0\n",
    "pos_path = os.path.join(nb.rap_test_dir, RAP_POS_LABEL)\n",
    "neg_path = os.path.join(nb.rap_test_dir, RAP_NEG_LABEL)\n",
    "for (p, label) in [ (pos_path, RAP_POS_LABEL), (neg_path, RAP_NEG_LABEL) ]:\n",
    "    for f in os.listdir(p):\n",
    "        with open(os.path.join(p,f),'r') as doc:\n",
    "            content = doc.read()\n",
    "            bow = nb.tokenize_doc(content)\n",
    "            classify_label = nb.classify(bow, alpha)\n",
    "            if classify_label != label:\n",
    "                print ('Label for the review: {}'.format(label))\n",
    "                print ('Classify_Label for the review: {}'.format(classify_label))\n",
    "                print (content)\n",
    "                break\n",
    "            break"
   ]
  },
  {
   "cell_type": "markdown",
   "metadata": {},
   "source": [
    "What are two reasons your system might have misclassified this example? What improvements could you make that may help your system classify this example correctly?"
   ]
  },
  {
   "cell_type": "markdown",
   "metadata": {},
   "source": [
    "This review uses many words and phrases associated with positive connotations. Words like 'good', 'entertain', and 'potential' to name a few. Additionally, this review directs most of the positive statements to the actors, not the movie. Thus, many of these positive comments are geared towards the actors' abilites and not the writing of the movie. A way to improve our system to add context to words by looking at phrases or even whole sentences. This way the whole meaning of phrases and sentences can be understood instead of potentially misleading words. "
   ]
  },
  {
   "cell_type": "markdown",
   "metadata": {},
   "source": [
    "**Question 2.13 (5 pts)**\n",
    "\n",
    "Often times we care about multi-class classification rather than binary classification.\n",
    "\n",
    "How many counts would we need to keep track of if the model were modified to support 5-class classification?"
   ]
  },
  {
   "cell_type": "markdown",
   "metadata": {},
   "source": [
    "There would be 16 counts. 1 count for vocab, 5 for class_total_doc_counts, 5 for class_total_word_counts, and 5 for class_word_counts."
   ]
  },
  {
   "cell_type": "markdown",
   "metadata": {},
   "source": [
    "What would be the new decision rule (i.e., how would the classify function change)?"
   ]
  },
  {
   "cell_type": "markdown",
   "metadata": {},
   "source": [
    "Instead of a binary classify function, there would need to be 5 checks for which class produced the maximum unnormalized_log_posterior. "
   ]
  },
  {
   "cell_type": "code",
   "execution_count": null,
   "metadata": {},
   "outputs": [],
   "source": []
  }
 ],
 "metadata": {
  "kernelspec": {
   "display_name": "Python 3",
   "language": "python",
   "name": "python3"
  },
  "language_info": {
   "codemirror_mode": {
    "name": "ipython",
    "version": 3
   },
   "file_extension": ".py",
   "mimetype": "text/x-python",
   "name": "python",
   "nbconvert_exporter": "python",
   "pygments_lexer": "ipython3",
   "version": "3.6.2"
  }
 },
 "nbformat": 4,
 "nbformat_minor": 2
}
